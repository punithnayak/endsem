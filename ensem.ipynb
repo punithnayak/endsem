{
 "cells": [
  {
   "cell_type": "code",
   "execution_count": null,
   "id": "1c9f4273-a164-43c3-b691-bd241b9f83a4",
   "metadata": {},
   "outputs": [],
   "source": [
    "from pyspark.sql import SparkSession\n",
    "from pyspark.sql.functions import col, year\n",
    "from pyspark.ml.recommendation import ALS\n",
    "from pyspark.ml.evaluation import RegressionEvaluator\n",
    "from pyspark.sql import functions as F\n",
    "\n",
    "# Initialize SparkSession\n",
    "spark = SparkSession.builder \\\n",
    "    .appName(\"Exam Analysis\") \\\n",
    "    .getOrCreate()\n",
    "\n",
    "# Step 1: Load data and add year column\n",
    "df = spark.read.csv(\"exam.csv\", header=True)\n",
    "df = df.withColumn(\"timestamp\", F.to_timestamp(\"timestamp\"))  # Convert timestamp column to datetime\n",
    "df = df.withColumn(\"year\", year(col(\"timestamp\")))  # Extract year from timestamp and append to dataframe\n",
    "\n",
    "# Step 2: Perform ALS and calculate MSE\n",
    "als = ALS(maxIter=5, regParam=0.01, userCol=\"user_id\", itemCol=\"item_id\", ratingCol=\"rating\", coldStartStrategy=\"drop\")\n",
    "train, test = df.randomSplit([0.8, 0.2], seed=123)\n",
    "model = als.fit(train)\n",
    "predictions = model.transform(test)\n",
    "evaluator = RegressionEvaluator(metricName=\"mse\", labelCol=\"rating\", predictionCol=\"prediction\")\n",
    "mse_before = evaluator.evaluate(predictions)\n",
    "print(\"MSE before entity resolution:\", mse_before)\n",
    "\n",
    "# Step 3: Entity Resolution\n",
    "# Assume df1 and df2 are two dataframes representing the same entities but with slightly different values\n",
    "# For demonstration purposes, we'll just use the same dataframe here\n",
    "df1 = df.alias(\"df1\")\n",
    "df2 = df.alias(\"df2\")\n",
    "\n",
    "# Example entity resolution logic (replace with your own logic)\n",
    "resolved_df = df1.join(df2, df1.user_id == df2.user_id).select(\n",
    "    df1.user_id,\n",
    "    F.coalesce(df1.rating, df2.rating).alias(\"rating\")\n",
    ")\n",
    "\n",
    "# Perform ALS again on resolved data and calculate MSE\n",
    "train_resolved, test_resolved = resolved_df.randomSplit([0.8, 0.2], seed=123)\n",
    "model_resolved = als.fit(train_resolved)\n",
    "predictions_resolved = model_resolved.transform(test_resolved)\n",
    "mse_after = evaluator.evaluate(predictions_resolved)\n",
    "print(\"MSE after entity resolution:\", mse_after)\n",
    "\n",
    "# Compare MSE\n",
    "print(\"MSE improvement after entity resolution:\", mse_before - mse_after)\n",
    "\n",
    "# Stop SparkSession\n",
    "spark.stop()\n"
   ]
  }
 ],
 "metadata": {
  "kernelspec": {
   "display_name": "Python 3 (ipykernel)",
   "language": "python",
   "name": "python3"
  },
  "language_info": {
   "codemirror_mode": {
    "name": "ipython",
    "version": 3
   },
   "file_extension": ".py",
   "mimetype": "text/x-python",
   "name": "python",
   "nbconvert_exporter": "python",
   "pygments_lexer": "ipython3",
   "version": "3.10.12"
  }
 },
 "nbformat": 4,
 "nbformat_minor": 5
}
